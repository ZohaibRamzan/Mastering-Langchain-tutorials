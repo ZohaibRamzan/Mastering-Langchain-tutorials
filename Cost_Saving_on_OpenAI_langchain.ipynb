{
  "nbformat": 4,
  "nbformat_minor": 0,
  "metadata": {
    "colab": {
      "provenance": []
    },
    "kernelspec": {
      "name": "python3",
      "display_name": "Python 3"
    },
    "language_info": {
      "name": "python"
    }
  },
  "cells": [
    {
      "cell_type": "markdown",
      "source": [
        "## Optimize the Cost on OpenAI API Calls Usage"
      ],
      "metadata": {
        "id": "ZL2846ieWAK0"
      }
    },
    {
      "cell_type": "code",
      "source": [
        "!pip install langchain\n",
        "!pip install openai\n",
        "!pip install sqlalchemy\n",
        "!pip install python-dotenv\n",
        "!pip install pymysql"
      ],
      "metadata": {
        "colab": {
          "base_uri": "https://localhost:8080/"
        },
        "id": "epKnNXRvWL7-",
        "outputId": "7211baeb-1483-4ce6-ff32-0b547f205a93"
      },
      "execution_count": null,
      "outputs": [
        {
          "output_type": "stream",
          "name": "stdout",
          "text": [
            "Requirement already satisfied: langchain in /usr/local/lib/python3.10/dist-packages (0.0.292)\n",
            "Requirement already satisfied: PyYAML>=5.3 in /usr/local/lib/python3.10/dist-packages (from langchain) (6.0.1)\n",
            "Requirement already satisfied: SQLAlchemy<3,>=1.4 in /usr/local/lib/python3.10/dist-packages (from langchain) (2.0.20)\n",
            "Requirement already satisfied: aiohttp<4.0.0,>=3.8.3 in /usr/local/lib/python3.10/dist-packages (from langchain) (3.8.5)\n",
            "Requirement already satisfied: async-timeout<5.0.0,>=4.0.0 in /usr/local/lib/python3.10/dist-packages (from langchain) (4.0.3)\n",
            "Requirement already satisfied: dataclasses-json<0.6.0,>=0.5.7 in /usr/local/lib/python3.10/dist-packages (from langchain) (0.5.14)\n",
            "Requirement already satisfied: langsmith<0.1.0,>=0.0.21 in /usr/local/lib/python3.10/dist-packages (from langchain) (0.0.37)\n",
            "Requirement already satisfied: numexpr<3.0.0,>=2.8.4 in /usr/local/lib/python3.10/dist-packages (from langchain) (2.8.5)\n",
            "Requirement already satisfied: numpy<2,>=1 in /usr/local/lib/python3.10/dist-packages (from langchain) (1.23.5)\n",
            "Requirement already satisfied: pydantic<3,>=1 in /usr/local/lib/python3.10/dist-packages (from langchain) (1.10.12)\n",
            "Requirement already satisfied: requests<3,>=2 in /usr/local/lib/python3.10/dist-packages (from langchain) (2.31.0)\n",
            "Requirement already satisfied: tenacity<9.0.0,>=8.1.0 in /usr/local/lib/python3.10/dist-packages (from langchain) (8.2.3)\n",
            "Requirement already satisfied: attrs>=17.3.0 in /usr/local/lib/python3.10/dist-packages (from aiohttp<4.0.0,>=3.8.3->langchain) (23.1.0)\n",
            "Requirement already satisfied: charset-normalizer<4.0,>=2.0 in /usr/local/lib/python3.10/dist-packages (from aiohttp<4.0.0,>=3.8.3->langchain) (3.2.0)\n",
            "Requirement already satisfied: multidict<7.0,>=4.5 in /usr/local/lib/python3.10/dist-packages (from aiohttp<4.0.0,>=3.8.3->langchain) (6.0.4)\n",
            "Requirement already satisfied: yarl<2.0,>=1.0 in /usr/local/lib/python3.10/dist-packages (from aiohttp<4.0.0,>=3.8.3->langchain) (1.9.2)\n",
            "Requirement already satisfied: frozenlist>=1.1.1 in /usr/local/lib/python3.10/dist-packages (from aiohttp<4.0.0,>=3.8.3->langchain) (1.4.0)\n",
            "Requirement already satisfied: aiosignal>=1.1.2 in /usr/local/lib/python3.10/dist-packages (from aiohttp<4.0.0,>=3.8.3->langchain) (1.3.1)\n",
            "Requirement already satisfied: marshmallow<4.0.0,>=3.18.0 in /usr/local/lib/python3.10/dist-packages (from dataclasses-json<0.6.0,>=0.5.7->langchain) (3.20.1)\n",
            "Requirement already satisfied: typing-inspect<1,>=0.4.0 in /usr/local/lib/python3.10/dist-packages (from dataclasses-json<0.6.0,>=0.5.7->langchain) (0.9.0)\n",
            "Requirement already satisfied: typing-extensions>=4.2.0 in /usr/local/lib/python3.10/dist-packages (from pydantic<3,>=1->langchain) (4.5.0)\n",
            "Requirement already satisfied: idna<4,>=2.5 in /usr/local/lib/python3.10/dist-packages (from requests<3,>=2->langchain) (3.4)\n",
            "Requirement already satisfied: urllib3<3,>=1.21.1 in /usr/local/lib/python3.10/dist-packages (from requests<3,>=2->langchain) (2.0.4)\n",
            "Requirement already satisfied: certifi>=2017.4.17 in /usr/local/lib/python3.10/dist-packages (from requests<3,>=2->langchain) (2023.7.22)\n",
            "Requirement already satisfied: greenlet!=0.4.17 in /usr/local/lib/python3.10/dist-packages (from SQLAlchemy<3,>=1.4->langchain) (2.0.2)\n",
            "Requirement already satisfied: packaging>=17.0 in /usr/local/lib/python3.10/dist-packages (from marshmallow<4.0.0,>=3.18.0->dataclasses-json<0.6.0,>=0.5.7->langchain) (23.1)\n",
            "Requirement already satisfied: mypy-extensions>=0.3.0 in /usr/local/lib/python3.10/dist-packages (from typing-inspect<1,>=0.4.0->dataclasses-json<0.6.0,>=0.5.7->langchain) (1.0.0)\n",
            "Requirement already satisfied: openai in /usr/local/lib/python3.10/dist-packages (0.28.0)\n",
            "Requirement already satisfied: requests>=2.20 in /usr/local/lib/python3.10/dist-packages (from openai) (2.31.0)\n",
            "Requirement already satisfied: tqdm in /usr/local/lib/python3.10/dist-packages (from openai) (4.66.1)\n",
            "Requirement already satisfied: aiohttp in /usr/local/lib/python3.10/dist-packages (from openai) (3.8.5)\n",
            "Requirement already satisfied: charset-normalizer<4,>=2 in /usr/local/lib/python3.10/dist-packages (from requests>=2.20->openai) (3.2.0)\n",
            "Requirement already satisfied: idna<4,>=2.5 in /usr/local/lib/python3.10/dist-packages (from requests>=2.20->openai) (3.4)\n",
            "Requirement already satisfied: urllib3<3,>=1.21.1 in /usr/local/lib/python3.10/dist-packages (from requests>=2.20->openai) (2.0.4)\n",
            "Requirement already satisfied: certifi>=2017.4.17 in /usr/local/lib/python3.10/dist-packages (from requests>=2.20->openai) (2023.7.22)\n",
            "Requirement already satisfied: attrs>=17.3.0 in /usr/local/lib/python3.10/dist-packages (from aiohttp->openai) (23.1.0)\n",
            "Requirement already satisfied: multidict<7.0,>=4.5 in /usr/local/lib/python3.10/dist-packages (from aiohttp->openai) (6.0.4)\n",
            "Requirement already satisfied: async-timeout<5.0,>=4.0.0a3 in /usr/local/lib/python3.10/dist-packages (from aiohttp->openai) (4.0.3)\n",
            "Requirement already satisfied: yarl<2.0,>=1.0 in /usr/local/lib/python3.10/dist-packages (from aiohttp->openai) (1.9.2)\n",
            "Requirement already satisfied: frozenlist>=1.1.1 in /usr/local/lib/python3.10/dist-packages (from aiohttp->openai) (1.4.0)\n",
            "Requirement already satisfied: aiosignal>=1.1.2 in /usr/local/lib/python3.10/dist-packages (from aiohttp->openai) (1.3.1)\n",
            "Requirement already satisfied: sqlalchemy in /usr/local/lib/python3.10/dist-packages (2.0.20)\n",
            "Requirement already satisfied: typing-extensions>=4.2.0 in /usr/local/lib/python3.10/dist-packages (from sqlalchemy) (4.5.0)\n",
            "Requirement already satisfied: greenlet!=0.4.17 in /usr/local/lib/python3.10/dist-packages (from sqlalchemy) (2.0.2)\n",
            "Requirement already satisfied: python-dotenv in /usr/local/lib/python3.10/dist-packages (1.0.0)\n",
            "Requirement already satisfied: pymysql in /usr/local/lib/python3.10/dist-packages (1.1.0)\n"
          ]
        }
      ]
    },
    {
      "cell_type": "markdown",
      "source": [
        "### 1. Caching\n",
        "Caching in LLMs (Large Language Models) is a technique for storing the responses to common prompts and queries, so that they can be retrieved quickly and easily without having to call the LLM again and again. This can significantly improve the performance and cost-effectiveness of LLM-powered applications.\n",
        "\n",
        "There are two main types of caching in LLMs:\n",
        "\n",
        "***Exact match cache***\n",
        "\n",
        "An exact match cache stores the results of previous LLM queries, and returns the cached result if the current query is an exact match. This is a simple and effective approach, but it has a low cache hit rate, because LLM queries are often complex and varied.\n",
        "\n",
        "**Embedding similarity cache**\n",
        "\n",
        "An embedding similarity cache uses embedding vectors to represent queries and responses. When a new query is received, its embedding vector is calculated and compared to the embedding vectors of all cached responses. The response with the most similar embedding vector is returned to the user."
      ],
      "metadata": {
        "id": "pc4Dm2w4WgTG"
      }
    },
    {
      "cell_type": "markdown",
      "source": [
        "![cache_compare.png](data:image/png;base64,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)"
      ],
      "metadata": {
        "id": "atu8ZqotapEW"
      }
    },
    {
      "cell_type": "markdown",
      "source": [
        "### a) In Memory Cache\n",
        "Cache that stores things in memory."
      ],
      "metadata": {
        "id": "YSUgpplKV56x"
      }
    },
    {
      "cell_type": "code",
      "source": [
        "import openai\n",
        "import langchain\n",
        "import os\n",
        "from langchain.cache import InMemoryCache\n",
        "from langchain.llms import OpenAI\n",
        "from dotenv import load_dotenv\n",
        "\n",
        "\n",
        "load_dotenv('/content/drive/MyDrive/vars.env')\n",
        "os.environ[\"OPENAI_API_KEY\"] = os.getenv('api_key')\n"
      ],
      "metadata": {
        "id": "BGR-xRdHXL0a"
      },
      "execution_count": null,
      "outputs": []
    },
    {
      "cell_type": "code",
      "source": [
        "langchain.llm_cache = InMemoryCache()\n",
        "llm = OpenAI(model_name=\"text-davinci-002\", n=1, best_of=1, cache=True, max_tokens=50)\n",
        "llm(\"Tell me a joke\")"
      ],
      "metadata": {
        "colab": {
          "base_uri": "https://localhost:8080/",
          "height": 35
        },
        "id": "5gMwrDv9ijlN",
        "outputId": "0f47e01f-50a0-45f4-c302-d32568331cde"
      },
      "execution_count": null,
      "outputs": [
        {
          "output_type": "execute_result",
          "data": {
            "text/plain": [
              "'\\n\\nTwo guys stole a calendar. They got six months each.'"
            ],
            "application/vnd.google.colaboratory.intrinsic+json": {
              "type": "string"
            }
          },
          "metadata": {},
          "execution_count": 4
        }
      ]
    },
    {
      "cell_type": "code",
      "source": [
        "llm(\"Tell me a joke\")"
      ],
      "metadata": {
        "colab": {
          "base_uri": "https://localhost:8080/",
          "height": 35
        },
        "id": "voD2eNhxcpe3",
        "outputId": "4e94e70a-51d6-452d-ff1f-16ece27fe7aa"
      },
      "execution_count": null,
      "outputs": [
        {
          "output_type": "execute_result",
          "data": {
            "text/plain": [
              "'\\n\\nTwo guys stole a calendar. They got six months each.'"
            ],
            "application/vnd.google.colaboratory.intrinsic+json": {
              "type": "string"
            }
          },
          "metadata": {},
          "execution_count": 5
        }
      ]
    },
    {
      "cell_type": "markdown",
      "source": [
        "### b) SQL Alchemy Cache\n",
        "Cache that uses SQAlchemy as a backend."
      ],
      "metadata": {
        "id": "zBL4QG1BVzLO"
      }
    },
    {
      "cell_type": "code",
      "source": [
        "from langchain.cache import SQLAlchemyCache\n",
        "from sqlalchemy import create_engine\n",
        "from sqlalchemy.orm import declarative_base\n",
        "from sqlalchemy import Column, Integer, Text\n",
        "from urllib.parse import quote_plus\n",
        "\n",
        "from langchain.llms import OpenAI\n",
        "\n",
        "Base = declarative_base()\n",
        "\n",
        "class FulltextLLMCache(Base):\n",
        "    __tablename__ = \"llm_cache_full_text\"\n",
        "    id = Column(Integer, primary_key=True)\n",
        "    prompt = Column(Text, nullable=False)\n",
        "    llm = Column(Text, nullable=False)\n",
        "    idx = Column(Integer)\n",
        "    response = Column(Text)\n",
        "\n",
        "load_dotenv()\n",
        "\n",
        "user = os.getenv('user_name')\n",
        "password = quote_plus(os.getenv('password'))\n",
        "endpoint_url = os.getenv('endpoint_url')\n",
        "database = os.getenv('database')\n",
        "os.environ[\"OPENAI_API_KEY\"] = os.getenv('api_key')\n"
      ],
      "metadata": {
        "id": "p9L_qpe2g0oM"
      },
      "execution_count": null,
      "outputs": []
    },
    {
      "cell_type": "code",
      "source": [
        "# Database URI\n",
        "db_uri = f\"mysql+pymysql://{user}:{password}@{endpoint_url}/{database}\"\n",
        "\n",
        "cache_engine = create_engine(db_uri, pool_recycle=240, pool_size=20, max_overflow=30)\n",
        "\n",
        "# Assigning to llm_cache\n",
        "langchain.llm_cache = SQLAlchemyCache(cache_engine, FulltextLLMCache)\n",
        "\n",
        "llm = OpenAI(model_name=\"text-davinci-003\", n=1, best_of=1,max_tokens=50,  cache=True)\n"
      ],
      "metadata": {
        "id": "vefN9ZOgg50A"
      },
      "execution_count": null,
      "outputs": []
    },
    {
      "cell_type": "code",
      "source": [
        "while True:\n",
        "    user_input = input(\"Ask me your question => \")\n",
        "    response= llm(user_input)\n",
        "    print(response)"
      ],
      "metadata": {
        "colab": {
          "base_uri": "https://localhost:8080/",
          "height": 582
        },
        "id": "4BvRN-_ilJjr",
        "outputId": "b60010f3-02a7-4e7d-f5ad-05f287ebfb86"
      },
      "execution_count": null,
      "outputs": [
        {
          "output_type": "stream",
          "name": "stdout",
          "text": [
            "Ask me your question => Who is the Prime minister of India?\n",
            "\n",
            "\n",
            "The Prime Minister of India is Narendra Modi.\n",
            "Ask me your question => Who is the prime Minister of Pakistan?\n",
            "\n",
            "\n",
            "The Prime Minister of Pakistan is Imran Khan.\n",
            "Ask me your question => Who is the Prime minister of India?\n",
            "\n",
            "\n",
            "The Prime Minister of India is Narendra Modi.\n"
          ]
        },
        {
          "output_type": "error",
          "ename": "KeyboardInterrupt",
          "evalue": "ignored",
          "traceback": [
            "\u001b[0;31m---------------------------------------------------------------------------\u001b[0m",
            "\u001b[0;31mKeyboardInterrupt\u001b[0m                         Traceback (most recent call last)",
            "\u001b[0;32m<ipython-input-8-03f869080f80>\u001b[0m in \u001b[0;36m<cell line: 1>\u001b[0;34m()\u001b[0m\n\u001b[1;32m      1\u001b[0m \u001b[0;32mwhile\u001b[0m \u001b[0;32mTrue\u001b[0m\u001b[0;34m:\u001b[0m\u001b[0;34m\u001b[0m\u001b[0;34m\u001b[0m\u001b[0m\n\u001b[0;32m----> 2\u001b[0;31m     \u001b[0muser_input\u001b[0m \u001b[0;34m=\u001b[0m \u001b[0minput\u001b[0m\u001b[0;34m(\u001b[0m\u001b[0;34m\"Ask me your question => \"\u001b[0m\u001b[0;34m)\u001b[0m\u001b[0;34m\u001b[0m\u001b[0;34m\u001b[0m\u001b[0m\n\u001b[0m\u001b[1;32m      3\u001b[0m     \u001b[0mresponse\u001b[0m\u001b[0;34m=\u001b[0m \u001b[0mllm\u001b[0m\u001b[0;34m(\u001b[0m\u001b[0muser_input\u001b[0m\u001b[0;34m)\u001b[0m\u001b[0;34m\u001b[0m\u001b[0;34m\u001b[0m\u001b[0m\n\u001b[1;32m      4\u001b[0m     \u001b[0mprint\u001b[0m\u001b[0;34m(\u001b[0m\u001b[0mresponse\u001b[0m\u001b[0;34m)\u001b[0m\u001b[0;34m\u001b[0m\u001b[0;34m\u001b[0m\u001b[0m\n",
            "\u001b[0;32m/usr/local/lib/python3.10/dist-packages/ipykernel/kernelbase.py\u001b[0m in \u001b[0;36mraw_input\u001b[0;34m(self, prompt)\u001b[0m\n\u001b[1;32m    849\u001b[0m                 \u001b[0;34m\"raw_input was called, but this frontend does not support input requests.\"\u001b[0m\u001b[0;34m\u001b[0m\u001b[0;34m\u001b[0m\u001b[0m\n\u001b[1;32m    850\u001b[0m             )\n\u001b[0;32m--> 851\u001b[0;31m         return self._input_request(str(prompt),\n\u001b[0m\u001b[1;32m    852\u001b[0m             \u001b[0mself\u001b[0m\u001b[0;34m.\u001b[0m\u001b[0m_parent_ident\u001b[0m\u001b[0;34m,\u001b[0m\u001b[0;34m\u001b[0m\u001b[0;34m\u001b[0m\u001b[0m\n\u001b[1;32m    853\u001b[0m             \u001b[0mself\u001b[0m\u001b[0;34m.\u001b[0m\u001b[0m_parent_header\u001b[0m\u001b[0;34m,\u001b[0m\u001b[0;34m\u001b[0m\u001b[0;34m\u001b[0m\u001b[0m\n",
            "\u001b[0;32m/usr/local/lib/python3.10/dist-packages/ipykernel/kernelbase.py\u001b[0m in \u001b[0;36m_input_request\u001b[0;34m(self, prompt, ident, parent, password)\u001b[0m\n\u001b[1;32m    893\u001b[0m             \u001b[0;32mexcept\u001b[0m \u001b[0mKeyboardInterrupt\u001b[0m\u001b[0;34m:\u001b[0m\u001b[0;34m\u001b[0m\u001b[0;34m\u001b[0m\u001b[0m\n\u001b[1;32m    894\u001b[0m                 \u001b[0;31m# re-raise KeyboardInterrupt, to truncate traceback\u001b[0m\u001b[0;34m\u001b[0m\u001b[0;34m\u001b[0m\u001b[0m\n\u001b[0;32m--> 895\u001b[0;31m                 \u001b[0;32mraise\u001b[0m \u001b[0mKeyboardInterrupt\u001b[0m\u001b[0;34m(\u001b[0m\u001b[0;34m\"Interrupted by user\"\u001b[0m\u001b[0;34m)\u001b[0m \u001b[0;32mfrom\u001b[0m \u001b[0;32mNone\u001b[0m\u001b[0;34m\u001b[0m\u001b[0;34m\u001b[0m\u001b[0m\n\u001b[0m\u001b[1;32m    896\u001b[0m             \u001b[0;32mexcept\u001b[0m \u001b[0mException\u001b[0m \u001b[0;32mas\u001b[0m \u001b[0me\u001b[0m\u001b[0;34m:\u001b[0m\u001b[0;34m\u001b[0m\u001b[0;34m\u001b[0m\u001b[0m\n\u001b[1;32m    897\u001b[0m                 \u001b[0mself\u001b[0m\u001b[0;34m.\u001b[0m\u001b[0mlog\u001b[0m\u001b[0;34m.\u001b[0m\u001b[0mwarning\u001b[0m\u001b[0;34m(\u001b[0m\u001b[0;34m\"Invalid Message:\"\u001b[0m\u001b[0;34m,\u001b[0m \u001b[0mexc_info\u001b[0m\u001b[0;34m=\u001b[0m\u001b[0;32mTrue\u001b[0m\u001b[0;34m)\u001b[0m\u001b[0;34m\u001b[0m\u001b[0;34m\u001b[0m\u001b[0m\n",
            "\u001b[0;31mKeyboardInterrupt\u001b[0m: Interrupted by user"
          ]
        }
      ]
    },
    {
      "cell_type": "markdown",
      "source": [
        "### 2. Batching\n",
        "If you are sending multiple requests to the same endpoint, you can batch the prompts to be sent in the same request. This will reduce the number of requests you need to make. The prompt parameter can hold up to 20 unique prompts."
      ],
      "metadata": {
        "id": "PqDusAFOWrWc"
      }
    },
    {
      "cell_type": "markdown",
      "source": [
        "### Example without batching"
      ],
      "metadata": {
        "id": "VxmyGNRgnXXX"
      }
    },
    {
      "cell_type": "code",
      "source": [
        "import openai\n",
        "openai.api_key=os.getenv('api_key')\n",
        "num_stories = 5\n",
        "prompt = \"Once upon a time,\"\n",
        "\n",
        "# serial example, with one story completion per request\n",
        "for _ in range(num_stories):\n",
        "    response = openai.Completion.create(\n",
        "        model=\"text-davinci-003\",\n",
        "        prompt=prompt,\n",
        "        max_tokens=20,\n",
        "    )\n",
        "    # print story\n",
        "    print(prompt + response.choices[0].text)"
      ],
      "metadata": {
        "id": "xIaUVjKJnXvO"
      },
      "execution_count": null,
      "outputs": []
    },
    {
      "cell_type": "markdown",
      "source": [
        "### Example with batching"
      ],
      "metadata": {
        "id": "R-dle1z7nZo6"
      }
    },
    {
      "cell_type": "code",
      "source": [
        "import openai  # for making OpenAI API requests\n",
        "\n",
        "\n",
        "num_stories = 5\n",
        "prompts = [\"Once upon a time,\"] * num_stories\n",
        "\n",
        "# batched example, with 10 story completions per request\n",
        "response = openai.Completion.create(\n",
        "    model=\"text-davinci-003\",\n",
        "    prompt=prompts,\n",
        "    max_tokens=20,\n",
        ")\n",
        "\n",
        "# match completions to prompts by index\n",
        "stories = [\"\"] * len(prompts)\n",
        "for choice in response.choices:\n",
        "    stories[choice.index] = prompts[choice.index] + choice.text\n",
        "\n",
        "# print stories\n",
        "for story in stories:\n",
        "    print(story)\n",
        "    print(\"##############\")"
      ],
      "metadata": {
        "id": "XNZ32Iq7nZ3v"
      },
      "execution_count": null,
      "outputs": []
    }
  ]
}