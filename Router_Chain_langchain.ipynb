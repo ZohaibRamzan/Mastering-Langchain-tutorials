{
 "cells": [
  {
   "cell_type": "markdown",
   "metadata": {},
   "source": [
    "## Building Coding Assistant using Router Chain in LangChain Part 1"
   ]
  },
  {
   "cell_type": "code",
   "execution_count": 4,
   "metadata": {},
   "outputs": [
    {
     "name": "stdout",
     "output_type": "stream",
     "text": [
      "Collecting langchain==0.0.252\n",
      "  Using cached langchain-0.0.252-py3-none-any.whl (1.4 MB)\n",
      "Requirement already satisfied: numexpr<3.0.0,>=2.8.4 in c:\\users\\forci\\appdata\\local\\packages\\pythonsoftwarefoundation.python.3.8_qbz5n2kfra8p0\\localcache\\local-packages\\python38\\site-packages (from langchain==0.0.252) (2.8.5)\n",
      "Requirement already satisfied: requests<3,>=2 in c:\\users\\forci\\appdata\\local\\packages\\pythonsoftwarefoundation.python.3.8_qbz5n2kfra8p0\\localcache\\local-packages\\python38\\site-packages (from langchain==0.0.252) (2.31.0)\n",
      "Requirement already satisfied: tenacity<9.0.0,>=8.1.0 in c:\\users\\forci\\appdata\\local\\packages\\pythonsoftwarefoundation.python.3.8_qbz5n2kfra8p0\\localcache\\local-packages\\python38\\site-packages (from langchain==0.0.252) (8.2.2)\n",
      "Requirement already satisfied: aiohttp<4.0.0,>=3.8.3 in c:\\users\\forci\\appdata\\local\\packages\\pythonsoftwarefoundation.python.3.8_qbz5n2kfra8p0\\localcache\\local-packages\\python38\\site-packages (from langchain==0.0.252) (3.8.4)\n",
      "Requirement already satisfied: dataclasses-json<0.6.0,>=0.5.7 in c:\\users\\forci\\appdata\\local\\packages\\pythonsoftwarefoundation.python.3.8_qbz5n2kfra8p0\\localcache\\local-packages\\python38\\site-packages (from langchain==0.0.252) (0.5.14)\n",
      "Requirement already satisfied: async-timeout<5.0.0,>=4.0.0 in c:\\users\\forci\\appdata\\local\\packages\\pythonsoftwarefoundation.python.3.8_qbz5n2kfra8p0\\localcache\\local-packages\\python38\\site-packages (from langchain==0.0.252) (4.0.2)\n",
      "Requirement already satisfied: numpy<2,>=1 in c:\\users\\forci\\appdata\\local\\packages\\pythonsoftwarefoundation.python.3.8_qbz5n2kfra8p0\\localcache\\local-packages\\python38\\site-packages (from langchain==0.0.252) (1.24.4)\n",
      "Requirement already satisfied: PyYAML>=5.3 in c:\\users\\forci\\appdata\\local\\packages\\pythonsoftwarefoundation.python.3.8_qbz5n2kfra8p0\\localcache\\local-packages\\python38\\site-packages (from langchain==0.0.252) (6.0.1)\n",
      "Requirement already satisfied: langsmith<0.1.0,>=0.0.11 in c:\\users\\forci\\appdata\\local\\packages\\pythonsoftwarefoundation.python.3.8_qbz5n2kfra8p0\\localcache\\local-packages\\python38\\site-packages (from langchain==0.0.252) (0.0.21)\n",
      "Requirement already satisfied: openapi-schema-pydantic<2.0,>=1.2 in c:\\users\\forci\\appdata\\local\\packages\\pythonsoftwarefoundation.python.3.8_qbz5n2kfra8p0\\localcache\\local-packages\\python38\\site-packages (from langchain==0.0.252) (1.2.4)\n",
      "Requirement already satisfied: SQLAlchemy<3,>=1.4 in c:\\users\\forci\\appdata\\local\\packages\\pythonsoftwarefoundation.python.3.8_qbz5n2kfra8p0\\localcache\\local-packages\\python38\\site-packages (from langchain==0.0.252) (2.0.19)\n",
      "Requirement already satisfied: pydantic<2,>=1 in c:\\users\\forci\\appdata\\local\\packages\\pythonsoftwarefoundation.python.3.8_qbz5n2kfra8p0\\localcache\\local-packages\\python38\\site-packages (from langchain==0.0.252) (1.10.12)\n",
      "Requirement already satisfied: frozenlist>=1.1.1 in c:\\users\\forci\\appdata\\local\\packages\\pythonsoftwarefoundation.python.3.8_qbz5n2kfra8p0\\localcache\\local-packages\\python38\\site-packages (from aiohttp<4.0.0,>=3.8.3->langchain==0.0.252) (1.3.3)\n",
      "Requirement already satisfied: aiosignal>=1.1.2 in c:\\users\\forci\\appdata\\local\\packages\\pythonsoftwarefoundation.python.3.8_qbz5n2kfra8p0\\localcache\\local-packages\\python38\\site-packages (from aiohttp<4.0.0,>=3.8.3->langchain==0.0.252) (1.3.1)\n",
      "Requirement already satisfied: charset-normalizer<4.0,>=2.0 in c:\\users\\forci\\appdata\\local\\packages\\pythonsoftwarefoundation.python.3.8_qbz5n2kfra8p0\\localcache\\local-packages\\python38\\site-packages (from aiohttp<4.0.0,>=3.8.3->langchain==0.0.252) (3.1.0)\n",
      "Requirement already satisfied: multidict<7.0,>=4.5 in c:\\users\\forci\\appdata\\local\\packages\\pythonsoftwarefoundation.python.3.8_qbz5n2kfra8p0\\localcache\\local-packages\\python38\\site-packages (from aiohttp<4.0.0,>=3.8.3->langchain==0.0.252) (6.0.4)\n",
      "Requirement already satisfied: yarl<2.0,>=1.0 in c:\\users\\forci\\appdata\\local\\packages\\pythonsoftwarefoundation.python.3.8_qbz5n2kfra8p0\\localcache\\local-packages\\python38\\site-packages (from aiohttp<4.0.0,>=3.8.3->langchain==0.0.252) (1.9.2)\n",
      "Requirement already satisfied: attrs>=17.3.0 in c:\\users\\forci\\appdata\\local\\packages\\pythonsoftwarefoundation.python.3.8_qbz5n2kfra8p0\\localcache\\local-packages\\python38\\site-packages (from aiohttp<4.0.0,>=3.8.3->langchain==0.0.252) (23.1.0)\n",
      "Requirement already satisfied: marshmallow<4.0.0,>=3.18.0 in c:\\users\\forci\\appdata\\local\\packages\\pythonsoftwarefoundation.python.3.8_qbz5n2kfra8p0\\localcache\\local-packages\\python38\\site-packages (from dataclasses-json<0.6.0,>=0.5.7->langchain==0.0.252) (3.20.1)\n",
      "Requirement already satisfied: typing-inspect<1,>=0.4.0 in c:\\users\\forci\\appdata\\local\\packages\\pythonsoftwarefoundation.python.3.8_qbz5n2kfra8p0\\localcache\\local-packages\\python38\\site-packages (from dataclasses-json<0.6.0,>=0.5.7->langchain==0.0.252) (0.9.0)\n",
      "Requirement already satisfied: packaging>=17.0 in c:\\users\\forci\\appdata\\local\\packages\\pythonsoftwarefoundation.python.3.8_qbz5n2kfra8p0\\localcache\\local-packages\\python38\\site-packages (from marshmallow<4.0.0,>=3.18.0->dataclasses-json<0.6.0,>=0.5.7->langchain==0.0.252) (23.1)\n",
      "Requirement already satisfied: typing-extensions>=4.2.0 in c:\\users\\forci\\appdata\\local\\packages\\pythonsoftwarefoundation.python.3.8_qbz5n2kfra8p0\\localcache\\local-packages\\python38\\site-packages (from pydantic<2,>=1->langchain==0.0.252) (4.7.1)\n",
      "Requirement already satisfied: certifi>=2017.4.17 in c:\\users\\forci\\appdata\\local\\packages\\pythonsoftwarefoundation.python.3.8_qbz5n2kfra8p0\\localcache\\local-packages\\python38\\site-packages (from requests<3,>=2->langchain==0.0.252) (2023.7.22)\n",
      "Requirement already satisfied: urllib3<3,>=1.21.1 in c:\\users\\forci\\appdata\\local\\packages\\pythonsoftwarefoundation.python.3.8_qbz5n2kfra8p0\\localcache\\local-packages\\python38\\site-packages (from requests<3,>=2->langchain==0.0.252) (2.0.4)\n",
      "Requirement already satisfied: idna<4,>=2.5 in c:\\users\\forci\\appdata\\local\\packages\\pythonsoftwarefoundation.python.3.8_qbz5n2kfra8p0\\localcache\\local-packages\\python38\\site-packages (from requests<3,>=2->langchain==0.0.252) (3.4)\n",
      "Requirement already satisfied: greenlet!=0.4.17 in c:\\users\\forci\\appdata\\local\\packages\\pythonsoftwarefoundation.python.3.8_qbz5n2kfra8p0\\localcache\\local-packages\\python38\\site-packages (from SQLAlchemy<3,>=1.4->langchain==0.0.252) (2.0.2)\n",
      "Requirement already satisfied: mypy-extensions>=0.3.0 in c:\\users\\forci\\appdata\\local\\packages\\pythonsoftwarefoundation.python.3.8_qbz5n2kfra8p0\\localcache\\local-packages\\python38\\site-packages (from typing-inspect<1,>=0.4.0->dataclasses-json<0.6.0,>=0.5.7->langchain==0.0.252) (1.0.0)\n",
      "Installing collected packages: langchain\n",
      "  Attempting uninstall: langchain\n",
      "    Found existing installation: langchain 0.0.263\n",
      "    Uninstalling langchain-0.0.263:\n",
      "      Successfully uninstalled langchain-0.0.263\n",
      "Successfully installed langchain-0.0.252\n",
      "Note: you may need to restart the kernel to use updated packages.\n"
     ]
    },
    {
     "name": "stderr",
     "output_type": "stream",
     "text": [
      "WARNING: You are using pip version 21.1.1; however, version 23.2.1 is available.\n",
      "You should consider upgrading via the 'C:\\Users\\forci\\AppData\\Local\\Microsoft\\WindowsApps\\PythonSoftwareFoundation.Python.3.8_qbz5n2kfra8p0\\python.exe -m pip install --upgrade pip' command.\n"
     ]
    },
    {
     "name": "stdout",
     "output_type": "stream",
     "text": [
      "Requirement already satisfied: openai in c:\\users\\forci\\appdata\\local\\packages\\pythonsoftwarefoundation.python.3.8_qbz5n2kfra8p0\\localcache\\local-packages\\python38\\site-packages (0.27.8)\n",
      "Requirement already satisfied: tqdm in c:\\users\\forci\\appdata\\local\\packages\\pythonsoftwarefoundation.python.3.8_qbz5n2kfra8p0\\localcache\\local-packages\\python38\\site-packages (from openai) (4.66.1)\n",
      "Requirement already satisfied: aiohttp in c:\\users\\forci\\appdata\\local\\packages\\pythonsoftwarefoundation.python.3.8_qbz5n2kfra8p0\\localcache\\local-packages\\python38\\site-packages (from openai) (3.8.4)\n",
      "Requirement already satisfied: requests>=2.20 in c:\\users\\forci\\appdata\\local\\packages\\pythonsoftwarefoundation.python.3.8_qbz5n2kfra8p0\\localcache\\local-packages\\python38\\site-packages (from openai) (2.31.0)\n",
      "Requirement already satisfied: idna<4,>=2.5 in c:\\users\\forci\\appdata\\local\\packages\\pythonsoftwarefoundation.python.3.8_qbz5n2kfra8p0\\localcache\\local-packages\\python38\\site-packages (from requests>=2.20->openai) (3.4)\n",
      "Requirement already satisfied: charset-normalizer<4,>=2 in c:\\users\\forci\\appdata\\local\\packages\\pythonsoftwarefoundation.python.3.8_qbz5n2kfra8p0\\localcache\\local-packages\\python38\\site-packages (from requests>=2.20->openai) (3.1.0)\n",
      "Requirement already satisfied: certifi>=2017.4.17 in c:\\users\\forci\\appdata\\local\\packages\\pythonsoftwarefoundation.python.3.8_qbz5n2kfra8p0\\localcache\\local-packages\\python38\\site-packages (from requests>=2.20->openai) (2023.7.22)\n",
      "Requirement already satisfied: urllib3<3,>=1.21.1 in c:\\users\\forci\\appdata\\local\\packages\\pythonsoftwarefoundation.python.3.8_qbz5n2kfra8p0\\localcache\\local-packages\\python38\\site-packages (from requests>=2.20->openai) (2.0.4)\n",
      "Requirement already satisfied: multidict<7.0,>=4.5 in c:\\users\\forci\\appdata\\local\\packages\\pythonsoftwarefoundation.python.3.8_qbz5n2kfra8p0\\localcache\\local-packages\\python38\\site-packages (from aiohttp->openai) (6.0.4)\n",
      "Requirement already satisfied: attrs>=17.3.0 in c:\\users\\forci\\appdata\\local\\packages\\pythonsoftwarefoundation.python.3.8_qbz5n2kfra8p0\\localcache\\local-packages\\python38\\site-packages (from aiohttp->openai) (23.1.0)\n",
      "Requirement already satisfied: async-timeout<5.0,>=4.0.0a3 in c:\\users\\forci\\appdata\\local\\packages\\pythonsoftwarefoundation.python.3.8_qbz5n2kfra8p0\\localcache\\local-packages\\python38\\site-packages (from aiohttp->openai) (4.0.2)\n",
      "Requirement already satisfied: yarl<2.0,>=1.0 in c:\\users\\forci\\appdata\\local\\packages\\pythonsoftwarefoundation.python.3.8_qbz5n2kfra8p0\\localcache\\local-packages\\python38\\site-packages (from aiohttp->openai) (1.9.2)\n",
      "Requirement already satisfied: aiosignal>=1.1.2 in c:\\users\\forci\\appdata\\local\\packages\\pythonsoftwarefoundation.python.3.8_qbz5n2kfra8p0\\localcache\\local-packages\\python38\\site-packages (from aiohttp->openai) (1.3.1)\n",
      "Requirement already satisfied: frozenlist>=1.1.1 in c:\\users\\forci\\appdata\\local\\packages\\pythonsoftwarefoundation.python.3.8_qbz5n2kfra8p0\\localcache\\local-packages\\python38\\site-packages (from aiohttp->openai) (1.3.3)\n",
      "Requirement already satisfied: colorama in c:\\users\\forci\\appdata\\local\\packages\\pythonsoftwarefoundation.python.3.8_qbz5n2kfra8p0\\localcache\\local-packages\\python38\\site-packages (from tqdm->openai) (0.4.6)\n",
      "Note: you may need to restart the kernel to use updated packages.\n"
     ]
    },
    {
     "name": "stderr",
     "output_type": "stream",
     "text": [
      "WARNING: You are using pip version 21.1.1; however, version 23.2.1 is available.\n",
      "You should consider upgrading via the 'C:\\Users\\forci\\AppData\\Local\\Microsoft\\WindowsApps\\PythonSoftwareFoundation.Python.3.8_qbz5n2kfra8p0\\python.exe -m pip install --upgrade pip' command.\n"
     ]
    },
    {
     "name": "stdout",
     "output_type": "stream",
     "text": [
      "Requirement already satisfied: python-dotenv in c:\\users\\forci\\appdata\\local\\packages\\pythonsoftwarefoundation.python.3.8_qbz5n2kfra8p0\\localcache\\local-packages\\python38\\site-packages (1.0.0)\n",
      "Note: you may need to restart the kernel to use updated packages.\n"
     ]
    },
    {
     "name": "stderr",
     "output_type": "stream",
     "text": [
      "WARNING: You are using pip version 21.1.1; however, version 23.2.1 is available.\n",
      "You should consider upgrading via the 'C:\\Users\\forci\\AppData\\Local\\Microsoft\\WindowsApps\\PythonSoftwareFoundation.Python.3.8_qbz5n2kfra8p0\\python.exe -m pip install --upgrade pip' command.\n"
     ]
    }
   ],
   "source": [
    "%pip install langchain==0.0.252\n",
    "%pip install openai\n",
    "%pip install python-dotenv\n"
   ]
  },
  {
   "cell_type": "code",
   "execution_count": 6,
   "metadata": {},
   "outputs": [],
   "source": [
    "from langchain.chains.router import MultiPromptChain\n",
    "from langchain.chains.router.llm_router import LLMRouterChain, RouterOutputParser\n",
    "from langchain.chains.router.multi_prompt_prompt import MULTI_PROMPT_ROUTER_TEMPLATE\n",
    "from langchain.llms import OpenAI\n",
    "from langchain.chains import ConversationChain\n",
    "from langchain.chains.llm import LLMChain\n",
    "from langchain.prompts import PromptTemplate\n",
    "from dotenv import load_dotenv\n",
    "import openai\n",
    "import os\n",
    "\n",
    "load_dotenv()\n",
    "openai.api_key = os.getenv('openai_api_key')"
   ]
  },
  {
   "cell_type": "markdown",
   "metadata": {},
   "source": [
    "### Step1: Write prompts for destination Chains "
   ]
  },
  {
   "cell_type": "code",
   "execution_count": null,
   "metadata": {},
   "outputs": [],
   "source": [
    "python_code_prompt='''You can do coding only and only in python. You are not allowed to code in any other language. \\\n",
    "                      If someone asks you to code in python then do it otherwise answer politely that I am only allowed to code \\\n",
    "                      in python nothing else. Now Code in python for below problem statement delimited by triple ticks\\n \\\n",
    "                        ```{input}``` '''\n",
    "\n",
    "\n",
    "cpp_code_prompt= '''You can do coding only and only in C++. You are not allowed to code in any other language. \\\n",
    "                    If someone asks you to code in C++ then do it otherwise answer politely that I am only allowed to code \\\n",
    "                    in C++ nothing else. Now Code in C++ for below problem statement delimited by triple ticks\\n \\\n",
    "                    ```{input}``` '''\n",
    "\n",
    "sql_code_prompt= '''You can do coding only and only in SQL. You are not allowed to code in any other language. \\\n",
    "                If someone asks you to code in SQL then do it otherwise answer politely that I am only allowed to code \\\n",
    "                in SQL nothing else. Now Code in SQL for below problem statement delimited by triple ticks\\n \\\n",
    "                ```{input}``` '''\n",
    "\n",
    "\n",
    "destinations_chains_info = [\n",
    "        {\n",
    "            \"name\": \"Python Expert\",\n",
    "            \"description\": \"This chain is expert to code in python only\",\n",
    "            \"prompt_template\": python_code_prompt\n",
    "        },\n",
    "        {\n",
    "            \"name\": \"C++ Expert\",\n",
    "            \"description\": \"This chain is expert to code in C++ language only\",\n",
    "            \"prompt_template\": cpp_code_prompt\n",
    "        },\n",
    "\n",
    "        {\n",
    "            \"name\": \"SQL Expert\",\n",
    "            \"description\": \"This chain is expert to code in SQL language only\",\n",
    "            \"prompt_template\": sql_code_prompt\n",
    "        }\n",
    "    ]\n"
   ]
  },
  {
   "cell_type": "code",
   "execution_count": null,
   "metadata": {},
   "outputs": [],
   "source": [
    "# llm declaration\n",
    "llm = OpenAI(temperature=0.00)"
   ]
  },
  {
   "cell_type": "markdown",
   "metadata": {},
   "source": [
    "### Step2: Declaring the Destination Chains"
   ]
  },
  {
   "cell_type": "code",
   "execution_count": null,
   "metadata": {},
   "outputs": [],
   "source": [
    "destination_chains={}\n",
    "for each_destination_prompt_info in destinations_chains_info:\n",
    "    name = each_destination_prompt_info[\"name\"]\n",
    "    prompt_template = each_destination_prompt_info[\"prompt_template\"]\n",
    "    prompt = PromptTemplate(template=prompt_template, input_variables=[\"input\"])\n",
    "    chain = LLMChain(llm=llm, prompt=prompt)\n",
    "    destination_chains[name] = chain\n",
    "\n",
    "print(destination_chains.keys())\n",
    "\n",
    "default_prompt = PromptTemplate(template=\"Understand the input and return the code against the below user input. You are only allowed to code nothing else.\\n {input}\", input_variables=[\"input\"])\n",
    "default_chain = LLMChain(llm=llm,prompt=default_prompt, output_key=\"text\")"
   ]
  },
  {
   "cell_type": "markdown",
   "metadata": {},
   "source": [
    "#### Step3: Connect destination chains with router chain"
   ]
  },
  {
   "cell_type": "code",
   "execution_count": null,
   "metadata": {},
   "outputs": [],
   "source": [
    "destinations = [f\"{p['name']}: {p['description']}\" for p in destinations_chains_info]\n",
    "destinations_str = \"\\n\".join(destinations)\n",
    "print(destinations_str)"
   ]
  },
  {
   "cell_type": "code",
   "execution_count": null,
   "metadata": {},
   "outputs": [],
   "source": [
    "router_prompt= MULTI_PROMPT_ROUTER_TEMPLATE.format(destinations=destinations_str)"
   ]
  },
  {
   "cell_type": "code",
   "execution_count": null,
   "metadata": {},
   "outputs": [],
   "source": [
    "\n",
    "#router_template = MULTI_PROMPT_ROUTER_TEMPLATE.format(destinations=destinations_str)\n",
    "\n",
    "router_prompt = PromptTemplate(\n",
    "        template=router_prompt,\n",
    "        input_variables=[\"input\"],\n",
    "        output_parser=RouterOutputParser(),\n",
    "    )\n",
    "router_chain = LLMRouterChain.from_llm(llm, router_prompt)"
   ]
  },
  {
   "cell_type": "code",
   "execution_count": null,
   "metadata": {},
   "outputs": [],
   "source": [
    "chain = MultiPromptChain(\n",
    "        router_chain=router_chain,\n",
    "        destination_chains=destination_chains,\n",
    "        default_chain=default_chain,\n",
    "        verbose=True,\n",
    "    )\n",
    "\n",
    "language='python'\n",
    "prefix_prompt=f'''Write code in {language} language. '''\n",
    "\n",
    "input_prompt='''Take two sorted arrays [3,6,7,9] and [4,5,6,8,10]. Make one sorted array from them'''\n",
    "final_prompt= prefix_prompt + input_prompt\n",
    "chain.run({\"input\": final_prompt, \"destinations\": destinations_str})"
   ]
  },
  {
   "cell_type": "code",
   "execution_count": null,
   "metadata": {},
   "outputs": [],
   "source": [
    "%pip install black"
   ]
  },
  {
   "cell_type": "code",
   "execution_count": null,
   "metadata": {},
   "outputs": [],
   "source": [
    "import black\n",
    "# Your Python code in string form\n",
    "code_string = '\\n\\n# Code\\n\\n#Merging two sorted arrays\\ndef merge_arrays(arr1, arr2): \\n    merged_arr = [] \\n    i, j = 0, 0\\n    while i < len(arr1) and j < len(arr2): \\n        if arr1[i] < arr2[j]: \\n            merged_arr.append(arr1[i]) \\n            i += 1\\n        else: \\n            merged_arr.append(arr2[j]) \\n            j += 1\\n    while i < len(arr1): \\n        merged_arr.append(arr1[i]) \\n        i += 1\\n    while j < len(arr2): \\n        merged_arr.append(arr2[j]) \\n        j += 1\\n    return merged_arr \\n  \\n# Driver code \\narr1 = [3, 6, 7, 9] \\narr2 = [4, 5, 6, 8, 10] \\n  \\nprint(merge_arrays(arr1, arr2))'\n",
    "\n",
    "# Format the code using black\n",
    "formatted_code = black.format_str(code_string, mode=black.FileMode())\n",
    "\n",
    "# Print the formatted code\n",
    "print(formatted_code)"
   ]
  },
  {
   "cell_type": "code",
   "execution_count": null,
   "metadata": {},
   "outputs": [],
   "source": [
    "language='C++'\n",
    "prefix_prompt=f'''Write code in {language} language. '''\n",
    "input_prompt='''Give me the factorial of number 322'''\n",
    "final_prompt= prefix_prompt + input_prompt\n",
    "chain.run({\"input\": final_prompt, \"destinations\": destinations_str})"
   ]
  }
 ],
 "metadata": {
  "kernelspec": {
   "display_name": "Python 3",
   "language": "python",
   "name": "python3"
  },
  "language_info": {
   "codemirror_mode": {
    "name": "ipython",
    "version": 3
   },
   "file_extension": ".py",
   "mimetype": "text/x-python",
   "name": "python",
   "nbconvert_exporter": "python",
   "pygments_lexer": "ipython3",
   "version": "3.8.10"
  },
  "orig_nbformat": 4
 },
 "nbformat": 4,
 "nbformat_minor": 2
}
